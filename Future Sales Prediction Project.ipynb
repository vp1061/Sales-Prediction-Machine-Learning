{
 "cells": [
  {
   "cell_type": "code",
   "execution_count": null,
   "id": "c4ab727f",
   "metadata": {},
   "outputs": [],
   "source": [
    "import pandas as pd\n",
    "import numpy as np\n",
    "import matplotlib.pyplot as plt\n",
    "import seaborn as sns\n",
    "%matplotlib inline"
   ]
  },
  {
   "cell_type": "code",
   "execution_count": null,
   "id": "35bc2549",
   "metadata": {},
   "outputs": [],
   "source": [
    "df = pd.read_csv(\"advertising_data.csv\")\n",
    "df.head()"
   ]
  },
  {
   "cell_type": "code",
   "execution_count": null,
   "id": "fd07502b",
   "metadata": {},
   "outputs": [],
   "source": [
    "df.isnull().sum()"
   ]
  },
  {
   "cell_type": "code",
   "execution_count": null,
   "id": "11a1efa5",
   "metadata": {},
   "outputs": [],
   "source": [
    "import plotly.express as px\n",
    "import statsmodels\n",
    "px.scatter(data_frame = df, x=\"Sales\",\n",
    "                    y=\"TV\", size=\"TV\", trendline=\"ols\")"
   ]
  },
  {
   "cell_type": "code",
   "execution_count": null,
   "id": "9b583982",
   "metadata": {},
   "outputs": [],
   "source": [
    "plt.scatter(x='Sales',y='TV',data=df)"
   ]
  },
  {
   "cell_type": "code",
   "execution_count": null,
   "id": "e274bb3d",
   "metadata": {},
   "outputs": [],
   "source": [
    "sns.pairplot(df)"
   ]
  },
  {
   "cell_type": "code",
   "execution_count": null,
   "id": "50a4d8b3",
   "metadata": {},
   "outputs": [],
   "source": [
    " px.scatter_matrix(df, dimensions=df.columns)"
   ]
  },
  {
   "cell_type": "code",
   "execution_count": null,
   "id": "addfc2c3",
   "metadata": {},
   "outputs": [],
   "source": [
    "from sklearn.model_selection import train_test_split\n",
    "from sklearn.linear_model import LinearRegression"
   ]
  },
  {
   "cell_type": "code",
   "execution_count": null,
   "id": "d037db49",
   "metadata": {},
   "outputs": [],
   "source": [
    "X = df.drop(['Sales'],axis=1)\n",
    "y = df['Sales']\n",
    "X_train, X_test, y_train, y_test = train_test_split(X, y, test_size=0.3, random_state=101)"
   ]
  },
  {
   "cell_type": "code",
   "execution_count": null,
   "id": "bcf6f925",
   "metadata": {},
   "outputs": [],
   "source": [
    "lm = LinearRegression()\n",
    "#to train or fit the training data\n",
    "lm.fit(X_train,y_train)"
   ]
  },
  {
   "cell_type": "code",
   "execution_count": null,
   "id": "1d16ac52",
   "metadata": {},
   "outputs": [],
   "source": [
    "lm.score(X_test,y_test)"
   ]
  },
  {
   "cell_type": "code",
   "execution_count": null,
   "id": "22a4ae66",
   "metadata": {},
   "outputs": [],
   "source": [
    "lm.coef_"
   ]
  },
  {
   "cell_type": "code",
   "execution_count": null,
   "id": "08a6dc7d",
   "metadata": {},
   "outputs": [],
   "source": [
    "lm.intercept_"
   ]
  },
  {
   "cell_type": "code",
   "execution_count": null,
   "id": "21138dd8",
   "metadata": {},
   "outputs": [],
   "source": [
    "#predictions\n",
    "predictions = lm.predict(X_test)"
   ]
  },
  {
   "cell_type": "code",
   "execution_count": null,
   "id": "45def6c0",
   "metadata": {},
   "outputs": [],
   "source": [
    "predictions"
   ]
  },
  {
   "cell_type": "code",
   "execution_count": null,
   "id": "ca9ca7b2",
   "metadata": {},
   "outputs": [],
   "source": [
    "plt.scatter(y_test,predictions)\n",
    "plt.xlabel('Y Test (True Values)')\n",
    "plt.ylabel('Predicted Values')"
   ]
  },
  {
   "cell_type": "code",
   "execution_count": null,
   "id": "5689808d",
   "metadata": {},
   "outputs": [],
   "source": [
    "#taking sample from the columns TV, Radio and Newspaper\n",
    "features = np.array([[230.1, 37.8, 69.2]])\n",
    "lm.predict(features)"
   ]
  },
  {
   "cell_type": "code",
   "execution_count": null,
   "id": "cd668e49",
   "metadata": {},
   "outputs": [],
   "source": [
    "#evaluating the mode mae,mse,rmse\n",
    "from sklearn import metrics\n",
    "print(\"MAE : \",metrics.mean_absolute_error(y_test,predictions))\n",
    "print(\"MSE : \",metrics.mean_squared_error(y_test,predictions))\n",
    "print(\"RMSE : \",np.sqrt(metrics.mean_squared_error(y_test,predictions)))"
   ]
  },
  {
   "cell_type": "code",
   "execution_count": null,
   "id": "7bc1f6ae",
   "metadata": {},
   "outputs": [],
   "source": []
  }
 ],
 "metadata": {
  "kernelspec": {
   "display_name": "Python 3.6 (py3-TF2.0)",
   "language": "python",
   "name": "tensorflow"
  },
  "language_info": {
   "codemirror_mode": {
    "name": "ipython",
    "version": 3
   },
   "file_extension": ".py",
   "mimetype": "text/x-python",
   "name": "python",
   "nbconvert_exporter": "python",
   "pygments_lexer": "ipython3",
   "version": "3.8.18"
  }
 },
 "nbformat": 4,
 "nbformat_minor": 5
}
